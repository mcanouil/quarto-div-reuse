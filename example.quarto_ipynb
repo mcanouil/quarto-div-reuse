{
  "cells": [
    {
      "cell_type": "markdown",
      "metadata": {},
      "source": [
        "---\n",
        "title: \"Div Reuse Quarto Extension\"\n",
        "filters:\n",
        "  - div-reuse\n",
        "format:\n",
        "  html:\n",
        "    output-file: index\n",
        "  typst:\n",
        "    output-file: div-reuse-typst\n",
        "    papersize: a4\n",
        "    margin:\n",
        "      x: 2.5cm\n",
        "      y: 2.5cm\n",
        "  pdf:\n",
        "    output-file: div-reuse-latex\n",
        "    papersize: a4\n",
        "    margin:\n",
        "      x: 2.5cm\n",
        "      y: 2.5cm\n",
        "  docx:\n",
        "    output-file: div-reuse-docx\n",
        "  revealjs:\n",
        "    output-file: div-reuse-revealjs\n",
        "  beamer:\n",
        "    output-file: div-reuse-beamer\n",
        "    aspectratio: 169\n",
        "  pptx:\n",
        "    output-file: div-reuse-pptx\n",
        "format-links: true\n",
        "embed-resources: true\n",
        "execute:\n",
        "  echo: true\n",
        "---\n",
        "\n",
        "## Section 1\n",
        "\n",
        "::: {reuse=\"lipsum\"}\n",
        ":::\n",
        "\n",
        "## Section 2\n",
        "\n",
        "::: {#placeholder}\n",
        "![]({{< placeholder >}})\n",
        ":::\n",
        "\n",
        "## Section 3\n",
        "\n",
        "::: {reuse=\"placeholder\"}\n",
        ":::\n",
        "\n",
        "## Section 4\n",
        "\n",
        "::: {#lipsum}\n",
        "{{< lipsum 1 >}}"
      ],
      "id": "37c0c141"
    },
    {
      "cell_type": "code",
      "metadata": {},
      "source": [
        "print(\"Hello World\")"
      ],
      "id": "3583ea5a",
      "execution_count": null,
      "outputs": []
    },
    {
      "cell_type": "markdown",
      "metadata": {},
      "source": [
        ":::"
      ],
      "id": "82078c42"
    }
  ],
  "metadata": {
    "kernelspec": {
      "display_name": "Python 3",
      "language": "python",
      "name": "python3"
    }
  },
  "nbformat": 4,
  "nbformat_minor": 5
}